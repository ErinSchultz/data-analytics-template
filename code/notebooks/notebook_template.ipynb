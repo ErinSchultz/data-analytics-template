{
 "cells": [
  {
   "cell_type": "markdown",
   "id": "fd221df4-2ee3-4e7f-801d-69bb625099cb",
   "metadata": {},
   "source": [
    "# Project name"
   ]
  },
  {
   "cell_type": "markdown",
   "id": "6ebba6c3-1a22-479a-9b95-9159f5306c62",
   "metadata": {},
   "source": [
    "**Author:** Erin Schultz\n",
    "**Last modified:** 11-13-2024 (created: 11-13-2024)\n",
    "\n",
    "**Description:** Short paragraph explaining this project. "
   ]
  },
  {
   "cell_type": "markdown",
   "id": "a5ca208e-00a8-4217-8385-da9a6d057e57",
   "metadata": {},
   "source": [
    "<br>"
   ]
  },
  {
   "cell_type": "markdown",
   "id": "f6cd8e17-169f-42ad-af6c-ade944e5c4c3",
   "metadata": {},
   "source": [
    "Import libraries:"
   ]
  },
  {
   "cell_type": "code",
   "execution_count": 5,
   "id": "5b015b64-c592-4a07-b70a-5e07d07c6929",
   "metadata": {},
   "outputs": [],
   "source": [
    "import pandas as pd"
   ]
  },
  {
   "cell_type": "markdown",
   "id": "e88b0919-bc5f-44d0-95a0-97584300fa66",
   "metadata": {},
   "source": [
    "<br>"
   ]
  },
  {
   "cell_type": "markdown",
   "id": "50a1d0e3-b988-4c12-83ea-8516859a5d09",
   "metadata": {},
   "source": [
    "Load data: "
   ]
  },
  {
   "cell_type": "raw",
   "id": "c4f5bc62-fa2b-4544-a1ec-a744afd551d7",
   "metadata": {},
   "source": [
    "# Code to read csv file\n",
    "df = pd.read_csv('file_name.txt', encoding = 'utf-8', sep = ',')"
   ]
  },
  {
   "cell_type": "markdown",
   "id": "13467255-a812-46cd-99ba-3102db407073",
   "metadata": {},
   "source": [
    "<br>"
   ]
  },
  {
   "cell_type": "markdown",
   "id": "f65ac47d-1b14-46f6-92d2-c5cd4f681e76",
   "metadata": {},
   "source": [
    "Save the data"
   ]
  },
  {
   "cell_type": "raw",
   "id": "d7e144dc-d2e3-45ef-92f3-4c5e8a3836c1",
   "metadata": {},
   "source": [
    "# Save to a new csv file \n",
    "df.to_csv('file_name1', header = True, index = False, encoding = 'utf=8') "
   ]
  }
 ],
 "metadata": {
  "kernelspec": {
   "display_name": "Python 3 (ipykernel)",
   "language": "python",
   "name": "python3"
  },
  "language_info": {
   "codemirror_mode": {
    "name": "ipython",
    "version": 3
   },
   "file_extension": ".py",
   "mimetype": "text/x-python",
   "name": "python",
   "nbconvert_exporter": "python",
   "pygments_lexer": "ipython3",
   "version": "3.12.4"
  }
 },
 "nbformat": 4,
 "nbformat_minor": 5
}
